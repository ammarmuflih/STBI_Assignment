{
 "cells": [
  {
   "cell_type": "code",
   "execution_count": 136,
   "metadata": {},
   "outputs": [
    {
     "name": "stderr",
     "output_type": "stream",
     "text": [
      "[nltk_data] Downloading package punkt to\n",
      "[nltk_data]     C:\\Users\\Ammar\\AppData\\Roaming\\nltk_data...\n",
      "[nltk_data]   Package punkt is already up-to-date!\n",
      "[nltk_data] Downloading package punkt_tab to\n",
      "[nltk_data]     C:\\Users\\Ammar\\AppData\\Roaming\\nltk_data...\n",
      "[nltk_data]   Package punkt_tab is already up-to-date!\n"
     ]
    }
   ],
   "source": [
    "import pandas as pd\n",
    "import numpy as np\n",
    "import statistics\n",
    "import time\n",
    "\n",
    "import nltk\n",
    "nltk.download(\"punkt\")\n",
    "nltk.download(\"punkt_tab\")\n",
    "from nltk.tokenize import sent_tokenize"
   ]
  },
  {
   "cell_type": "code",
   "execution_count": 137,
   "metadata": {},
   "outputs": [],
   "source": [
    "news = pd.read_csv(\"news.csv\")\n",
    "news_content = pd.DataFrame(news[[\"id\", \"content\"]])"
   ]
  },
  {
   "cell_type": "code",
   "execution_count": 138,
   "metadata": {},
   "outputs": [
    {
     "data": {
      "text/plain": [
       "Index(['id', 'content'], dtype='object')"
      ]
     },
     "execution_count": 138,
     "metadata": {},
     "output_type": "execute_result"
    }
   ],
   "source": [
    "news_content.drop_duplicates(subset=\"content\", keep=\"first\")\n",
    "news_content_clean = pd.DataFrame(news_content.dropna())\n",
    "news_content.columns"
   ]
  },
  {
   "cell_type": "code",
   "execution_count": 139,
   "metadata": {},
   "outputs": [
    {
     "name": "stdout",
     "output_type": "stream",
     "text": [
      "Number of Documents: 14334\n",
      "\n",
      "Total terms: 5524080\n",
      "Total unique terms: 227401\n",
      "Mode term : \"yang\", amount = 130056\n",
      "Mean number of terms per documents: 385.3830054416074\n",
      "Median number of terms per documents: 312.0\n",
      "Max number of terms per documents: 4307\n",
      "Min number of terms per documents: 33 \n",
      "\n",
      "Total sentence: 352491\n",
      "Mean number sentence per document: 24.591251569694432\n",
      "Median number sentence per document: 18.0\n",
      "Max number sentence per document: 565\n",
      "Min number sentence per document: 2\n"
     ]
    }
   ],
   "source": [
    "num_terms_per_document = []\n",
    "num_sentence_per_document = []\n",
    "document_id = []\n",
    "terms_list = []\n",
    "count = 0\n",
    "\n",
    "# news_content_clean = news_content_clean.str.replace(r\"[()\\[\\]{}]\\\"\", \"\", regex=True)\n",
    "\n",
    "for i in news_content_clean['content']:\n",
    "    text = i.split()\n",
    "    for j in text:\n",
    "        terms_list.append(j)\n",
    "\n",
    "    num_terms_per_document.append(len(text))\n",
    "\n",
    "for i in news_content_clean['content']:\n",
    "    sentence = sent_tokenize(i)\n",
    "    num_sentence_per_document.append(len(sentence))\n",
    "\n",
    "for i in news_content_clean[\"id\"]:\n",
    "    document_id.append(i)\n",
    "\n",
    "mode_val = statistics.mode(terms_list)\n",
    "mode_count = terms_list.count(mode_val)\n",
    "document_id = set(document_id)\n",
    "# =======================================================================================================================================================\n",
    "print(f\"Number of Documents: {len(num_terms_per_document)}\\n\")\n",
    "print(f\"Total terms: {len(terms_list)}\")\n",
    "print(f\"Total unique terms: {len(np.unique(terms_list))}\")\n",
    "print(f\"Mode term : \\\"{mode_val}\\\", amount = {mode_count}\")\n",
    "print(f\"Mean number of terms per documents: {np.mean(num_terms_per_document)}\")\n",
    "print(f\"Median number of terms per documents: {np.median(num_terms_per_document)}\")\n",
    "print(f\"Max number of terms per documents: {max(num_terms_per_document)}\")\n",
    "print(f\"Min number of terms per documents: {min(num_terms_per_document)} \\n\")\n",
    "\n",
    "print(f\"Total sentence: {sum(num_sentence_per_document)}\")\n",
    "print(f\"Mean number sentence per document: {np.mean(num_sentence_per_document)}\")\n",
    "print(f\"Median number sentence per document: {np.median(num_sentence_per_document)}\")\n",
    "print(f\"Max number sentence per document: {max(num_sentence_per_document)}\")\n",
    "print(f\"Min number sentence per document: {min(num_sentence_per_document)}\")"
   ]
  },
  {
   "cell_type": "code",
   "execution_count": 140,
   "metadata": {},
   "outputs": [],
   "source": [
    "unique_term = list(set(terms_list))\n",
    "# print(len(unique_term))\n",
    "# print(unique_term[:1000])"
   ]
  },
  {
   "cell_type": "code",
   "execution_count": 141,
   "metadata": {},
   "outputs": [],
   "source": [
    "inverted_index = {}\n",
    "for row in news_content_clean.itertuples(index=False):\n",
    "    doc_id, content = row.id, row.content\n",
    "    for term in set(content.split()):\n",
    "        if term not in inverted_index:\n",
    "            inverted_index[term] = set()\n",
    "        inverted_index[term].add(doc_id)"
   ]
  },
  {
   "cell_type": "code",
   "execution_count": 142,
   "metadata": {},
   "outputs": [],
   "source": [
    "# AND\n",
    "def and_query(query_1, query_2):\n",
    "    start_time = time.perf_counter()\n",
    "    result_1 = inverted_index[query_1]\n",
    "    result_2 = inverted_index[query_2]\n",
    "    result = result_1 & result_2\n",
    "    stop_time = time.perf_counter()\n",
    "    elapsed_time = stop_time-start_time\n",
    "    return result, elapsed_time, query_1, query_2\n",
    "\n",
    "# OR\n",
    "def or_query(query_1, query_2):\n",
    "    start_time = time.perf_counter()\n",
    "    result_1 = inverted_index[query_1]\n",
    "    result_2 = inverted_index[query_2]\n",
    "    result = result_1 | result_2\n",
    "    stop_time = time.perf_counter()\n",
    "    elapsed_time = stop_time-start_time\n",
    "    return result, elapsed_time, query_1, query_2\n",
    "\n",
    "# NOT\n",
    "def not_query(query_1):\n",
    "    start_time = time.perf_counter()\n",
    "    result = inverted_index[query_1]\n",
    "    result = document_id - result\n",
    "    stop_time = time.perf_counter()\n",
    "    elapsed_time = stop_time-start_time\n",
    "    return result, elapsed_time, query_1"
   ]
  },
  {
   "cell_type": "code",
   "execution_count": 143,
   "metadata": {},
   "outputs": [
    {
     "name": "stdout",
     "output_type": "stream",
     "text": [
      "======> AND <======\n",
      "Query: ('warga', 'nasi')\n",
      "Dokumen ditemukan: 17\n",
      "Waktu Pencarian: 0.0000166 second \n",
      "\n",
      "Query: ('pemerintah', 'korupsi')\n",
      "Dokumen ditemukan: 77\n",
      "Waktu Pencarian: 0.0000422 second \n",
      "\n"
     ]
    }
   ],
   "source": [
    "# AND query test\n",
    "print(f\"======> AND <======\")\n",
    "\n",
    "result, elapsed_time, q_1, q_2 = and_query(\"warga\", \"nasi\")\n",
    "print(f\"Query: {q_1, q_2}\")\n",
    "print(f\"Dokumen ditemukan: {len(result)}\")\n",
    "print(f\"Waktu Pencarian: {format(elapsed_time, '.7f')} second \\n\")\n",
    "# print(result, \"\\n\")\n",
    "\n",
    "result, elapsed_time, q_1, q_2 = and_query(\"pemerintah\", \"korupsi\")\n",
    "print(f\"Query: {q_1, q_2}\")\n",
    "print(f\"Dokumen ditemukan: {len(result)}\")\n",
    "print(f\"Waktu Pencarian: {format(elapsed_time, '.7f')} second \\n\")\n",
    "# print(result)\n"
   ]
  },
  {
   "cell_type": "code",
   "execution_count": 144,
   "metadata": {},
   "outputs": [
    {
     "name": "stdout",
     "output_type": "stream",
     "text": [
      "======> OR <======\n",
      "Query: ('warga', 'nasi')\n",
      "Dokumen ditemukan: 2992\n",
      "Waktu Pencarian: 0.0001577 second \n",
      "\n",
      "Query: ('pemerintah', 'korupsi')\n",
      "Dokumen ditemukan: 3674\n",
      "Waktu Pencarian: 0.0001829 second \n",
      "\n"
     ]
    }
   ],
   "source": [
    "# OR query test\n",
    "print(\"======> OR <======\")\n",
    "result, elapsed_time, q_1, q_2 = or_query(\"warga\", \"nasi\")\n",
    "print(f\"Query: {q_1, q_2}\")\n",
    "print(f\"Dokumen ditemukan: {len(result)}\")\n",
    "print(f\"Waktu Pencarian: {format(elapsed_time, '.7f')} second \\n\")\n",
    "# print(result, \"\\n\")\n",
    "\n",
    "result, elapsed_time, q_1, q_2 = or_query(\"pemerintah\", \"korupsi\")\n",
    "print(f\"Query: {q_1, q_2}\")\n",
    "print(f\"Dokumen ditemukan: {len(result)}\")\n",
    "print(f\"Waktu Pencarian: {format(elapsed_time, '.7f')} second \\n\")\n",
    "# print(result)"
   ]
  },
  {
   "cell_type": "code",
   "execution_count": 147,
   "metadata": {},
   "outputs": [
    {
     "name": "stdout",
     "output_type": "stream",
     "text": [
      "======> NOT <======\n",
      "Query: warga\n",
      "Dokumen ditemukan: 11411\n",
      "Waktu Pencarian: 0.0004186 second \n",
      "\n",
      "Query: pemerintah\n",
      "Dokumen ditemukan: 10874\n",
      "Waktu Pencarian: 0.0004741 second \n",
      "\n"
     ]
    }
   ],
   "source": [
    "# NOT query test\n",
    "print(\"======> NOT <======\")\n",
    "result, elapsed_time, q_1 = not_query(\"warga\")\n",
    "print(f\"Query: {q_1}\")\n",
    "print(f\"Dokumen ditemukan: {len(result)}\")\n",
    "print(f\"Waktu Pencarian: {format(elapsed_time, '.7f')} second \\n\")\n",
    "# print(result, \"\\n\")\n",
    "\n",
    "result, elapsed_time, q_1 = not_query(\"pemerintah\")\n",
    "print(f\"Query: {q_1}\")\n",
    "print(f\"Dokumen ditemukan: {len(result)}\")\n",
    "print(f\"Waktu Pencarian: {format(elapsed_time, '.7f')} second \\n\")\n",
    "# print(result)"
   ]
  }
 ],
 "metadata": {
  "kernelspec": {
   "display_name": "porto",
   "language": "python",
   "name": "python3"
  },
  "language_info": {
   "codemirror_mode": {
    "name": "ipython",
    "version": 3
   },
   "file_extension": ".py",
   "mimetype": "text/x-python",
   "name": "python",
   "nbconvert_exporter": "python",
   "pygments_lexer": "ipython3",
   "version": "3.9.21"
  }
 },
 "nbformat": 4,
 "nbformat_minor": 2
}
