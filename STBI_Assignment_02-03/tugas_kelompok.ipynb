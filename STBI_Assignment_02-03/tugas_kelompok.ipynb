{
 "cells": [
  {
   "cell_type": "code",
   "execution_count": 1,
   "metadata": {},
   "outputs": [
    {
     "name": "stderr",
     "output_type": "stream",
     "text": [
      "g:\\anaconda3\\envs\\porto\\lib\\site-packages\\tqdm_joblib\\__init__.py:4: TqdmExperimentalWarning: Using `tqdm.autonotebook.tqdm` in notebook mode. Use `tqdm.tqdm` instead to force console mode (e.g. in jupyter console)\n",
      "  from tqdm.autonotebook import tqdm\n"
     ]
    }
   ],
   "source": [
    "import pandas as pd\n",
    "from Sastrawi.Stemmer.StemmerFactory import StemmerFactory\n",
    "from nltk.corpus import stopwords\n",
    "from tqdm import tqdm\n",
    "from tqdm_joblib import tqdm_joblib\n",
    "from joblib import Parallel, delayed"
   ]
  },
  {
   "cell_type": "code",
   "execution_count": 2,
   "metadata": {},
   "outputs": [],
   "source": [
    "# stopwords\n",
    "stopwords_id = set(stopwords.words('indonesian'))\n",
    "\n",
    "# stemmer\n",
    "stemmer = StemmerFactory().create_stemmer()\n",
    "\n",
    "# fungsi preprocess\n",
    "def preprocess(text):\n",
    "    text = text.lower()\n",
    "    tokens = [w for w in text.split() if w not in stopwords_id]\n",
    "    text = \" \".join(tokens)\n",
    "    return stemmer.stem(text)"
   ]
  },
  {
   "cell_type": "code",
   "execution_count": 3,
   "metadata": {},
   "outputs": [
    {
     "name": "stderr",
     "output_type": "stream",
     "text": [
      "Preprocessing:   0%|          | 0/14343 [00:00<?, ?it/s]"
     ]
    },
    {
     "data": {
      "application/vnd.jupyter.widget-view+json": {
       "model_id": "b515ce32a94f4bb5b3c6e798b45bce29",
       "version_major": 2,
       "version_minor": 0
      },
      "text/plain": [
       "  0%|          | 0/14343 [00:00<?, ?it/s]"
      ]
     },
     "metadata": {},
     "output_type": "display_data"
    }
   ],
   "source": [
    "# load dataset\n",
    "df = pd.read_csv(\"News.csv\")\n",
    "\n",
    "# list content + tqdm untuk progress bar\n",
    "contents = df['content'].fillna('').astype(str).tolist()\n",
    "\n",
    "# results = Parallel(n_jobs=-1, batch_size=5000)(\n",
    "#     delayed(preprocess)(doc) for doc in tqdm(contents, desc=\"Preprocessing\")\n",
    "# )\n",
    "\n",
    "with tqdm_joblib(tqdm(total=len(contents), desc=\"Preprocessing\")):\n",
    "    results = Parallel(n_jobs=-1)(\n",
    "        delayed(preprocess)(doc) for doc in contents\n",
    "    )\n",
    "\n",
    "df['content_clean'] = results"
   ]
  },
  {
   "cell_type": "code",
   "execution_count": 4,
   "metadata": {},
   "outputs": [
    {
     "name": "stdout",
     "output_type": "stream",
     "text": [
      "Hasil preprocessing berhasil disimpan ke: News_processed.csv\n"
     ]
    }
   ],
   "source": [
    "output_file = \"News_processed.csv\"\n",
    "df.to_csv(output_file, index=False)\n",
    "print(f\"Hasil preprocessing berhasil disimpan ke: {output_file}\")"
   ]
  }
 ],
 "metadata": {
  "kernelspec": {
   "display_name": "porto",
   "language": "python",
   "name": "python3"
  },
  "language_info": {
   "codemirror_mode": {
    "name": "ipython",
    "version": 3
   },
   "file_extension": ".py",
   "mimetype": "text/x-python",
   "name": "python",
   "nbconvert_exporter": "python",
   "pygments_lexer": "ipython3",
   "version": "3.9.21"
  }
 },
 "nbformat": 4,
 "nbformat_minor": 2
}
